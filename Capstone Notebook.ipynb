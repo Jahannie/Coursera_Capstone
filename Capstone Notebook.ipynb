{
 "cells": [
  {
   "cell_type": "markdown",
   "id": "fc2db292-b4a6-4483-b7c0-c5c101bb87f9",
   "metadata": {},
   "source": [
    "This notebook will be for the Capstone Course!"
   ]
  },
  {
   "cell_type": "markdown",
   "id": "5d7dc732-1e16-4d94-b96f-fc6d759f548b",
   "metadata": {},
   "source": [
    "<h1> 1. Introduction/Business Problem </h1>\n",
    "\n",
    "\n",
    "<p>An entrepreneurial ecosystem consists of stakeholders such as non profits, government, academia, private practitioners, financial institutions, among other support organizations. These stakeholders provide support in different areas such as education, access to capital, prototyping and even business plan. In order to maximize the resources of these support organizations they should know the business stage, size, and industry of the client they are helping. Specially, they should consider the location of the business since that data provides an additional layer of context. \n",
    "\n",
    "Sometimes, however, these support organizations do not have the data in an accessible and digestible form that allows them to make data-driven decisions to improve their services.\n",
    "\n",
    "In this project we will be exploring geographic data with the idea of providing input to organizations that could help them to:\n",
    "<ul>\n",
    "    <li>provide a better service in a personalized way</li>\n",
    "    <li>be able to design projects and develop grants based on the data</li>\n",
    "    <li>hire specialized personnel to serve the geographic area in which they are located</li>\n",
    "    <li-and develop public policy projects that help businesses in their area. </p>"
   ]
  },
  {
   "cell_type": "markdown",
   "id": "ac6595f0-c38a-4bf9-859c-9af70fa6166a",
   "metadata": {},
   "source": [
    "<h1> 2. Data </h1>\n",
    "\n",
    "<p> For this project we will be using Foursquare's Places API. The membership tier is the Sandbox. It includes: \n",
    "<ul>\n",
    "    <li>950 Regular Calls/Day</li>\n",
    "    <li>50 Premium Calls/Day</li>\n",
    "    <li>1 Photo per Venue</li>\n",
    "    <li>1 Tip per Venue.</li>\n",
    "</ul>\n",
    "\n",
    "With this API it is possible to search, explore, get trends and recommendations regarding venues. In the same way it is possible to get data about users such as details, check-ins, venue history, among other information. \n",
    "\n",
    "In this project the data will be limited to venues in Puerto Rico. The data that will be explored is: stats over a given time, categories, and likes. With this information entrepreneurial support organizations will be able to identify business clusters in different locations across Puerto Rico and areas of opportunity for new business owners or those that are looking to expand established businesses. </p>\n",
    "\n"
   ]
  },
  {
   "cell_type": "code",
   "execution_count": null,
   "id": "64e7d84e-e8b2-44c2-bff1-7a6fcb1d03fd",
   "metadata": {},
   "outputs": [],
   "source": []
  }
 ],
 "metadata": {
  "kernelspec": {
   "display_name": "Python",
   "language": "python",
   "name": "conda-env-python-py"
  },
  "language_info": {
   "codemirror_mode": {
    "name": "ipython",
    "version": 3
   },
   "file_extension": ".py",
   "mimetype": "text/x-python",
   "name": "python",
   "nbconvert_exporter": "python",
   "pygments_lexer": "ipython3",
   "version": "3.6.13"
  }
 },
 "nbformat": 4,
 "nbformat_minor": 5
}
