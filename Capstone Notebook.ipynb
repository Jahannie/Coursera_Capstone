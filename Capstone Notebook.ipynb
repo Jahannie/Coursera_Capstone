{
 "cells": [
  {
   "cell_type": "markdown",
   "id": "fc2db292-b4a6-4483-b7c0-c5c101bb87f9",
   "metadata": {},
   "source": [
    "This notebook will be for the Capstone Course!"
   ]
  },
  {
   "cell_type": "code",
   "execution_count": 1,
   "id": "9e655fca-9b6b-4fee-a610-301ea5866a24",
   "metadata": {},
   "outputs": [
    {
     "name": "stdout",
     "output_type": "stream",
     "text": [
      "Hello Capstone Project Course!\n"
     ]
    }
   ],
   "source": [
    "import pandas as pf\n",
    "import numpy as np\n",
    "print (\"Hello Capstone Project Course!\")"
   ]
  },
  {
   "cell_type": "code",
   "execution_count": null,
   "id": "58c9cba1-891b-4af0-8c82-27dcad1191e6",
   "metadata": {},
   "outputs": [],
   "source": []
  }
 ],
 "metadata": {
  "kernelspec": {
   "display_name": "Python",
   "language": "python",
   "name": "conda-env-python-py"
  },
  "language_info": {
   "codemirror_mode": {
    "name": "ipython",
    "version": 3
   },
   "file_extension": ".py",
   "mimetype": "text/x-python",
   "name": "python",
   "nbconvert_exporter": "python",
   "pygments_lexer": "ipython3",
   "version": "3.6.13"
  }
 },
 "nbformat": 4,
 "nbformat_minor": 5
}
